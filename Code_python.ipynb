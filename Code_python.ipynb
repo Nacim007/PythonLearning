{
 "cells": [
  {
   "cell_type": "code",
   "execution_count": 1,
   "id": "e97c6b12",
   "metadata": {},
   "outputs": [
    {
     "name": "stdout",
     "output_type": "stream",
     "text": [
      "[0, 1, 2, 3, 4, 5, 0, 1, 2, 3, 4, 5, 0, 1, 2, 3, 4, 5, 0, 1, 2, 3, 4, 5, 0, 1, 2, 3, 4, 5]\n"
     ]
    }
   ],
   "source": [
    "def permutations(x, y):\n",
    "    res = list()\n",
    "    for i in range(x + 1):\n",
    "        for j in range(y + 1):\n",
    "            res.append(j)\n",
    "    return res\n",
    "\n",
    "print(permutations(4,5))"
   ]
  },
  {
   "cell_type": "code",
   "execution_count": 2,
   "id": "b78b6452",
   "metadata": {},
   "outputs": [
    {
     "name": "stdout",
     "output_type": "stream",
     "text": [
      "Enter a value for x:3\n",
      "Enter a value for y:2\n",
      "Enter a value for z:1\n",
      "Enter a value for n:4\n",
      "[[0, 0, 0], [0, 0, 1], [0, 1, 0], [0, 1, 1], [0, 2, 0], [0, 2, 1], [1, 0, 0], [1, 0, 1], [1, 1, 0], [1, 1, 1], [1, 2, 0], [2, 0, 0], [2, 0, 1], [2, 1, 0], [2, 2, 1], [3, 0, 0], [3, 1, 1], [3, 2, 0], [3, 2, 1]]\n"
     ]
    }
   ],
   "source": [
    "def sommation():\n",
    "    x = int(input(\"Enter a value for x:\"))\n",
    "    y = int(input(\"Enter a value for y:\"))\n",
    "    z = int(input(\"Enter a value for z:\"))\n",
    "    n = int(input(\"Enter a value for n:\"))\n",
    "    res = list()\n",
    "    for i in range(x + 1):\n",
    "        for j in range(y + 1):\n",
    "            for k in range(z + 1):\n",
    "                if k + j + i != n:\n",
    "                    res.append([i, j, k])\n",
    "    return res\n",
    "\n",
    "print(sommation())"
   ]
  },
  {
   "cell_type": "code",
   "execution_count": 6,
   "id": "9d398784",
   "metadata": {},
   "outputs": [
    {
     "name": "stdout",
     "output_type": "stream",
     "text": [
      "5\n",
      "1 4 2 6 4\n",
      "4\n"
     ]
    }
   ],
   "source": [
    "def runnerUp():\n",
    "    n = int(input())\n",
    "    arr = list(map(int, input().split()))\n",
    "    sort = sorted(arr,reverse=True)\n",
    "    res = list()\n",
    "    for i in range(n):\n",
    "        if sort[0] != sort[i]:\n",
    "            res.append(sort[i])\n",
    "    return max(res)\n",
    "\n",
    "print(runnerUp())"
   ]
  },
  {
   "cell_type": "code",
   "execution_count": 7,
   "id": "5aa8f736",
   "metadata": {},
   "outputs": [],
   "source": [
    "def score():\n",
    "    name = list()\n",
    "    score = list()\n",
    "    n = int(input(\"Enter the number of participant:\"))\n",
    "    for i in range(n):\n",
    "        name.append(input(\"Enter his name:\"))\n",
    "        score.append(float(input(\"Enter his score:\")))\n",
    "\n",
    "    d = dict(zip(name, score))\n",
    "\n",
    "    score_ordered = sorted(score)\n",
    "    res = 0\n",
    "    for i in range(n):\n",
    "        if score_ordered[0] < score_ordered[i]:\n",
    "            res = score_ordered[i]\n",
    "            break\n",
    "    found_key = [key for key, value in d.items() if value == res]\n",
    "    found_key_ord = sorted(found_key)\n",
    "    for el in found_key_ord:\n",
    "        return el\n",
    "\n",
    "#print(score())"
   ]
  },
  {
   "cell_type": "code",
   "execution_count": null,
   "id": "e5ddd758",
   "metadata": {},
   "outputs": [],
   "source": []
  }
 ],
 "metadata": {
  "kernelspec": {
   "display_name": "Python 3 (ipykernel)",
   "language": "python",
   "name": "python3"
  },
  "language_info": {
   "codemirror_mode": {
    "name": "ipython",
    "version": 3
   },
   "file_extension": ".py",
   "mimetype": "text/x-python",
   "name": "python",
   "nbconvert_exporter": "python",
   "pygments_lexer": "ipython3",
   "version": "3.7.11"
  }
 },
 "nbformat": 4,
 "nbformat_minor": 5
}
