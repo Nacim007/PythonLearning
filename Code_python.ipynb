{
 "cells": [
  {
   "cell_type": "code",
   "execution_count": 1,
   "id": "e97c6b12",
   "metadata": {},
   "outputs": [
    {
     "name": "stdout",
     "output_type": "stream",
     "text": [
      "[0, 1, 2, 3, 4, 5, 0, 1, 2, 3, 4, 5, 0, 1, 2, 3, 4, 5, 0, 1, 2, 3, 4, 5, 0, 1, 2, 3, 4, 5]\n"
     ]
    }
   ],
   "source": [
    "def permutations(x, y):\n",
    "    res = list()\n",
    "    for i in range(x + 1):\n",
    "        for j in range(y + 1):\n",
    "            res.append(j)\n",
    "    return res\n",
    "\n",
    "print(permutations(4,5))"
   ]
  },
  {
   "cell_type": "code",
   "execution_count": 2,
   "id": "b78b6452",
   "metadata": {},
   "outputs": [
    {
     "name": "stdout",
     "output_type": "stream",
     "text": [
      "Enter a value for x:3\n",
      "Enter a value for y:2\n",
      "Enter a value for z:1\n",
      "Enter a value for n:4\n",
      "[[0, 0, 0], [0, 0, 1], [0, 1, 0], [0, 1, 1], [0, 2, 0], [0, 2, 1], [1, 0, 0], [1, 0, 1], [1, 1, 0], [1, 1, 1], [1, 2, 0], [2, 0, 0], [2, 0, 1], [2, 1, 0], [2, 2, 1], [3, 0, 0], [3, 1, 1], [3, 2, 0], [3, 2, 1]]\n"
     ]
    }
   ],
   "source": [
    "def sommation():\n",
    "    x = int(input(\"Enter a value for x:\"))\n",
    "    y = int(input(\"Enter a value for y:\"))\n",
    "    z = int(input(\"Enter a value for z:\"))\n",
    "    n = int(input(\"Enter a value for n:\"))\n",
    "    res = list()\n",
    "    for i in range(x + 1):\n",
    "        for j in range(y + 1):\n",
    "            for k in range(z + 1):\n",
    "                if k + j + i != n:\n",
    "                    res.append([i, j, k])\n",
    "    return res\n",
    "\n",
    "print(sommation())"
   ]
  },
  {
   "cell_type": "code",
   "execution_count": 6,
   "id": "9d398784",
   "metadata": {},
   "outputs": [
    {
     "name": "stdout",
     "output_type": "stream",
     "text": [
      "5\n",
      "1 4 2 6 4\n",
      "4\n"
     ]
    }
   ],
   "source": [
    "def runnerUp():\n",
    "    n = int(input())\n",
    "    arr = list(map(int, input().split()))\n",
    "    sort = sorted(arr,reverse=True)\n",
    "    res = list()\n",
    "    for i in range(n):\n",
    "        if sort[0] != sort[i]:\n",
    "            res.append(sort[i])\n",
    "    return max(res)\n",
    "\n",
    "print(runnerUp())"
   ]
  },
  {
   "cell_type": "code",
   "execution_count": 7,
   "id": "5aa8f736",
   "metadata": {},
   "outputs": [],
   "source": [
    "def score():\n",
    "    name = list()\n",
    "    score = list()\n",
    "    n = int(input(\"Enter the number of participant:\"))\n",
    "    for i in range(n):\n",
    "        name.append(input(\"Enter his name:\"))\n",
    "        score.append(float(input(\"Enter his score:\")))\n",
    "\n",
    "    d = dict(zip(name, score))\n",
    "\n",
    "    score_ordered = sorted(score)\n",
    "    res = 0\n",
    "    for i in range(n):\n",
    "        if score_ordered[0] < score_ordered[i]:\n",
    "            res = score_ordered[i]\n",
    "            break\n",
    "    found_key = [key for key, value in d.items() if value == res]\n",
    "    found_key_ord = sorted(found_key)\n",
    "    for el in found_key_ord:\n",
    "        return el\n",
    "\n",
    "#print(score())"
   ]
  },
  {
   "cell_type": "code",
   "execution_count": 17,
   "id": "8e2bcc9c",
   "metadata": {},
   "outputs": [
    {
     "data": {
      "text/plain": [
       "5"
      ]
     },
     "execution_count": 17,
     "metadata": {},
     "output_type": "execute_result"
    }
   ],
   "source": [
    "def count_substring(string,sub):\n",
    "    count = 0\n",
    "    for i in range(len(string)):\n",
    "        if string[i:i+len(sub)] == sub:\n",
    "            count += 1\n",
    "    return count\n",
    "        \n",
    "count_substring('ABCDCDCDCACDCBCCDC','CDC')"
   ]
  },
  {
   "cell_type": "code",
   "execution_count": 10,
   "id": "ddd15378",
   "metadata": {},
   "outputs": [
    {
     "name": "stdout",
     "output_type": "stream",
     "text": [
      "Enter a string:qA2\n",
      "True\n",
      "True\n",
      "True\n",
      "True\n",
      "True\n"
     ]
    }
   ],
   "source": [
    "# str.isalnum() ; str.isalpha() ; str.isdigit() ; str.islower() ; str.isupper()\n",
    "\n",
    "def string():\n",
    "    s = input(\"Enter a string:\")\n",
    "    print(True) if any(letter.isalnum() for letter in s) else print(False)\n",
    "    print(True) if any(letter.isalpha() for letter in s) else print(False)\n",
    "    print(True) if any(letter.isdigit() for letter in s) else print(False)\n",
    "    print(True) if any(letter.islower() for letter in s) else print(False)\n",
    "    print(True) if any(letter.isupper() for letter in s) else print(False)  \n",
    "\n",
    "string()"
   ]
  },
  {
   "cell_type": "code",
   "execution_count": 119,
   "id": "5f372204",
   "metadata": {},
   "outputs": [
    {
     "name": "stdout",
     "output_type": "stream",
     "text": [
      "ABCD\n",
      "EFGH\n",
      "IJKL\n",
      "IMNO\n",
      "QRST\n",
      "UVWX\n",
      "YZ\n",
      "\n"
     ]
    }
   ],
   "source": [
    "def wrap(string, max_width):\n",
    "    result = \"\"\n",
    "    for i in range(0,len(string)-1,max_width):\n",
    "        result += string[i:i+max_width] + \"\\n\"\n",
    "    return result\n",
    "print(wrap('ABCDEFGHIJKLIMNOQRSTUVWXYZ',4))"
   ]
  },
  {
   "cell_type": "code",
   "execution_count": null,
   "id": "31b1df75",
   "metadata": {},
   "outputs": [],
   "source": []
  }
 ],
 "metadata": {
  "kernelspec": {
   "display_name": "Python 3 (ipykernel)",
   "language": "python",
   "name": "python3"
  },
  "language_info": {
   "codemirror_mode": {
    "name": "ipython",
    "version": 3
   },
   "file_extension": ".py",
   "mimetype": "text/x-python",
   "name": "python",
   "nbconvert_exporter": "python",
   "pygments_lexer": "ipython3",
   "version": "3.7.11"
  }
 },
 "nbformat": 4,
 "nbformat_minor": 5
}
