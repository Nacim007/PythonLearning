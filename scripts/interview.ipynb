{
 "cells": [
  {
   "cell_type": "code",
   "execution_count": 17,
   "id": "bb51ed21",
   "metadata": {},
   "outputs": [
    {
     "name": "stdout",
     "output_type": "stream",
     "text": [
      "(250, 16)\n"
     ]
    },
    {
     "data": {
      "text/plain": [
       "Index(['Unnamed: 0', 'Gender', 'Age', 'Height',\n",
       "       'family_history_with_overweight', 'FAVC', 'FCVC', 'NCP', 'CAEC',\n",
       "       'SMOKE', 'CH2O', 'SCC', 'FAF', 'TUE', 'CALC', 'MTRANS'],\n",
       "      dtype='object')"
      ]
     },
     "execution_count": 17,
     "metadata": {},
     "output_type": "execute_result"
    }
   ],
   "source": [
    "df = pd.read_csv('X1.csv')\n",
    "print(df.shape)\n",
    "df.columns"
   ]
  },
  {
   "cell_type": "code",
   "execution_count": null,
   "id": "8a252307",
   "metadata": {},
   "outputs": [],
   "source": []
  },
  {
   "cell_type": "code",
   "execution_count": null,
   "id": "30a2dcd1",
   "metadata": {},
   "outputs": [],
   "source": []
  },
  {
   "cell_type": "code",
   "execution_count": null,
   "id": "56da2f9d",
   "metadata": {},
   "outputs": [],
   "source": []
  },
  {
   "cell_type": "code",
   "execution_count": null,
   "id": "9d6765a9",
   "metadata": {},
   "outputs": [],
   "source": []
  },
  {
   "cell_type": "code",
   "execution_count": null,
   "id": "2a6d0339",
   "metadata": {},
   "outputs": [],
   "source": []
  },
  {
   "cell_type": "code",
   "execution_count": null,
   "id": "19be458e",
   "metadata": {},
   "outputs": [],
   "source": []
  },
  {
   "cell_type": "code",
   "execution_count": 11,
   "id": "8d043950",
   "metadata": {},
   "outputs": [],
   "source": [
    "import pandas as pd\n",
    "\n",
    "class Excel():\n",
    "    def __init__(self,file):\n",
    "        self.file = file \n",
    "\n",
    "    def read_file(self):\n",
    "        self.df = pd.read_csv(self.file)  \n",
    "        return self.df\n",
    "\n",
    "    def shape(self):\n",
    "        shape = self.df.shape\n",
    "        return shape[0],shape[1]\n",
    "    \n",
    "    def choose_col(self):\n",
    "        title_col = self.df.columns\n",
    "        print(title_col)\n",
    "        col_name = input('enter a name:')\n",
    "        chosen_col = self.df[col_name]\n",
    "        return chosen_col\n",
    "    "
   ]
  },
  {
   "cell_type": "code",
   "execution_count": 20,
   "id": "b468b4e5",
   "metadata": {
    "scrolled": false
   },
   "outputs": [
    {
     "name": "stdout",
     "output_type": "stream",
     "text": [
      "shape: (250, 16) \n",
      "\n",
      "\n",
      "\n",
      "Index(['Unnamed: 0', 'Gender', 'Age', 'Height',\n",
      "       'family_history_with_overweight', 'FAVC', 'FCVC', 'NCP', 'CAEC',\n",
      "       'SMOKE', 'CH2O', 'SCC', 'FAF', 'TUE', 'CALC', 'MTRANS'],\n",
      "      dtype='object')\n",
      "enter a name:Height\n",
      "0      1.88\n",
      "1      1.70\n",
      "2      1.86\n",
      "3      1.61\n",
      "4      1.61\n",
      "       ... \n",
      "245    1.68\n",
      "246    1.65\n",
      "247    1.60\n",
      "248    1.65\n",
      "249    1.60\n",
      "Name: Height, Length: 250, dtype: float64\n"
     ]
    }
   ],
   "source": [
    "excel = Excel('X1.csv')\n",
    "\n",
    "excel.read_file()\n",
    "print('shape:',excel.shape(),'\\n\\n\\n')\n",
    "print(excel.choose_col())"
   ]
  },
  {
   "cell_type": "code",
   "execution_count": null,
   "id": "17acad96",
   "metadata": {},
   "outputs": [],
   "source": []
  }
 ],
 "metadata": {
  "kernelspec": {
   "display_name": "Python3.6Test",
   "language": "python",
   "name": "python3.6test"
  },
  "language_info": {
   "codemirror_mode": {
    "name": "ipython",
    "version": 3
   },
   "file_extension": ".py",
   "mimetype": "text/x-python",
   "name": "python",
   "nbconvert_exporter": "python",
   "pygments_lexer": "ipython3",
   "version": "3.7.11"
  }
 },
 "nbformat": 4,
 "nbformat_minor": 5
}
