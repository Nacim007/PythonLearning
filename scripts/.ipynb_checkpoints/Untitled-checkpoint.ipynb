{
 "cells": [
  {
   "cell_type": "code",
   "execution_count": 43,
   "id": "8d043950",
   "metadata": {},
   "outputs": [],
   "source": [
    "import pandas as pd\n",
    "\n",
    "class Excel():\n",
    "    def __init__(self,file):\n",
    "        self.file = file \n",
    "\n",
    "    def read_file(self):\n",
    "        self.df = pd.read_csv(self.file)  \n",
    "        return self.df\n",
    "\n",
    "    def count(self):\n",
    "        shape = self.df.shape\n",
    "        return shape[0],shape[1]\n",
    "    \n",
    "    def choose_col(self):\n",
    "        title_col = self.df.columns\n",
    "        print(title_col)\n",
    "        col_name = input('enter a name:')\n",
    "        chosen_col = self.df[col_name]\n",
    "        return chosen_col"
   ]
  },
  {
   "cell_type": "code",
   "execution_count": 45,
   "id": "b468b4e5",
   "metadata": {},
   "outputs": [
    {
     "name": "stdout",
     "output_type": "stream",
     "text": [
      "Index(['Unnamed: 0', 'Gender', 'Age', 'Height',\n",
      "       'family_history_with_overweight', 'FAVC', 'FCVC', 'NCP', 'CAEC',\n",
      "       'SMOKE', 'CH2O', 'SCC', 'FAF', 'TUE', 'CALC', 'MTRANS'],\n",
      "      dtype='object')\n",
      "enter a name:CH2O\n"
     ]
    },
    {
     "data": {
      "text/plain": [
       "0      3.0\n",
       "1      2.0\n",
       "2      2.0\n",
       "3      3.0\n",
       "4      3.0\n",
       "      ... \n",
       "245    2.0\n",
       "246    2.0\n",
       "247    1.0\n",
       "248    1.0\n",
       "249    3.0\n",
       "Name: CH2O, Length: 250, dtype: float64"
      ]
     },
     "execution_count": 45,
     "metadata": {},
     "output_type": "execute_result"
    }
   ],
   "source": [
    "a = Excel('X1.csv')\n",
    "a.read_file()\n",
    "# a.count()[]\n",
    "a.choose_col()"
   ]
  },
  {
   "cell_type": "code",
   "execution_count": null,
   "id": "69b6c122",
   "metadata": {},
   "outputs": [],
   "source": []
  }
 ],
 "metadata": {
  "kernelspec": {
   "display_name": "Python3.6Test",
   "language": "python",
   "name": "python3.6test"
  },
  "language_info": {
   "codemirror_mode": {
    "name": "ipython",
    "version": 3
   },
   "file_extension": ".py",
   "mimetype": "text/x-python",
   "name": "python",
   "nbconvert_exporter": "python",
   "pygments_lexer": "ipython3",
   "version": "3.7.11"
  }
 },
 "nbformat": 4,
 "nbformat_minor": 5
}
